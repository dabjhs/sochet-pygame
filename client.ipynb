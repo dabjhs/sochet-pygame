{
 "cells": [
  {
   "cell_type": "code",
   "execution_count": 14,
   "id": "23d020e3",
   "metadata": {},
   "outputs": [],
   "source": [
    "import socket\n",
    "import time\n",
    "import pygame\n",
    "import json\n",
    "from pygame.locals import *"
   ]
  },
  {
   "cell_type": "code",
   "execution_count": 17,
   "id": "7ba98be1",
   "metadata": {},
   "outputs": [
    {
     "name": "stdout",
     "output_type": "stream",
     "text": [
      "{\"x\": 0.00390625, \"y\": -0.003936767578125}\n",
      "{\"x\": 0.00390625, \"y\": -0.003936767578125}\n",
      "{\"x\": 0.00390625, \"y\": -0.003936767578125}\n",
      "{\"x\": -0.73333740234375, \"y\": -0.54510498046875}\n",
      "{\"x\": -0.9686279296875, \"y\": 0.317626953125}\n",
      "{\"x\": 0.694091796875, \"y\": 0.168609619140625}\n",
      "{\"x\": 0.780364990234375, \"y\": -0.9058837890625}\n",
      "{\"x\": -1.0, \"y\": -0.26275634765625}\n",
      "{\"x\": -0.07452392578125, \"y\": -0.003936767578125}\n",
      "{\"x\": -0.741180419921875, \"y\": -0.003936767578125}\n",
      "{\"x\": 0.00390625, \"y\": -0.003936767578125}\n",
      "{\"x\": 0.00390625, \"y\": -0.003936767578125}\n",
      "{\"x\": -0.0902099609375, \"y\": -0.35687255859375}\n",
      "{\"x\": -0.725494384765625, \"y\": -0.0902099609375}\n",
      "{\"x\": 0.670562744140625, \"y\": -0.87451171875}\n",
      "{\"x\": 0.764678955078125, \"y\": -0.898040771484375}\n",
      "{\"x\": 0.74114990234375, \"y\": -0.756866455078125}\n",
      "{\"x\": 0.88232421875, \"y\": -0.73333740234375}\n",
      "{\"x\": -0.098052978515625, \"y\": -0.960784912109375}\n",
      "{\"x\": 0.00390625, \"y\": -0.003936767578125}\n",
      "{\"x\": 0.00390625, \"y\": -0.003936767578125}\n",
      "{\"x\": 0.00390625, \"y\": -0.003936767578125}\n",
      "{\"x\": 0.00390625, \"y\": -0.003936767578125}\n",
      "{\"x\": 0.00390625, \"y\": -0.003936767578125}\n"
     ]
    },
    {
     "ename": "KeyboardInterrupt",
     "evalue": "",
     "output_type": "error",
     "traceback": [
      "\u001b[1;31m---------------------------------------------------------------------------\u001b[0m",
      "\u001b[1;31mKeyboardInterrupt\u001b[0m                         Traceback (most recent call last)",
      "\u001b[1;32m~\\AppData\\Local\\Temp/ipykernel_21468/269083090.py\u001b[0m in \u001b[0;36m<module>\u001b[1;34m\u001b[0m\n\u001b[0;32m     29\u001b[0m         \u001b[0ms\u001b[0m\u001b[1;33m.\u001b[0m\u001b[0msendall\u001b[0m\u001b[1;33m(\u001b[0m\u001b[0mjson_data\u001b[0m\u001b[1;33m.\u001b[0m\u001b[0mencode\u001b[0m\u001b[1;33m(\u001b[0m\u001b[1;33m)\u001b[0m\u001b[1;33m)\u001b[0m\u001b[1;33m\u001b[0m\u001b[1;33m\u001b[0m\u001b[0m\n\u001b[0;32m     30\u001b[0m \u001b[1;31m#        s.sendall(message.encode('utf-8'))\u001b[0m\u001b[1;33m\u001b[0m\u001b[1;33m\u001b[0m\u001b[0m\n\u001b[1;32m---> 31\u001b[1;33m         \u001b[0mtime\u001b[0m\u001b[1;33m.\u001b[0m\u001b[0msleep\u001b[0m\u001b[1;33m(\u001b[0m\u001b[1;36m0.5\u001b[0m\u001b[1;33m)\u001b[0m\u001b[1;33m\u001b[0m\u001b[1;33m\u001b[0m\u001b[0m\n\u001b[0m",
      "\u001b[1;31mKeyboardInterrupt\u001b[0m: "
     ]
    }
   ],
   "source": [
    "HOST = 'raspberrypi.local'  #ラズパイで使用しているIPアドレス\n",
    "PORT = 8080        #ラズパイで使用しているポート番号\n",
    "\n",
    "#ジョイコンの用意\n",
    "joystick = pygame.joystick.Joystick(0)\n",
    "joystick.init()\n",
    "num_axes = joystick.get_numaxes()\n",
    "\n",
    "#pygame.init()\n",
    "#pygame.joystick.init()\n",
    "#joys = pygame.joystick.Joystick(0)\n",
    "#joys.init()\n",
    "\n",
    "# ソケットの作成\n",
    "with socket.socket(socket.AF_INET, socket.SOCK_STREAM) as s:\n",
    "    # サーバーに接続\n",
    "    s.connect((HOST, PORT))\n",
    "    i=0\n",
    "    while True:\n",
    "        # データを送信\n",
    "        i=i+1\n",
    "        eventlist = pygame.event.get()\n",
    "        x_axis = joystick.get_axis(0)\n",
    "        y_axis = joystick.get_axis(1)\n",
    "        data = {'x': x_axis, 'y': y_axis}\n",
    "#        message = \"x: {0:.2f}, y: {1:.2f}\".format(x_axis, y_axis)\n",
    "        json_data = json.dumps(data)\n",
    "        print( json_data)\n",
    "        s.sendall(json_data.encode()) \n",
    "#        s.sendall(message.encode('utf-8'))\n",
    "        time.sleep(0.5)"
   ]
  },
  {
   "cell_type": "code",
   "execution_count": null,
   "id": "856393c9",
   "metadata": {},
   "outputs": [],
   "source": []
  },
  {
   "cell_type": "code",
   "execution_count": null,
   "id": "e8f83acc",
   "metadata": {},
   "outputs": [],
   "source": []
  }
 ],
 "metadata": {
  "kernelspec": {
   "display_name": "Python 3 (ipykernel)",
   "language": "python",
   "name": "python3"
  },
  "language_info": {
   "codemirror_mode": {
    "name": "ipython",
    "version": 3
   },
   "file_extension": ".py",
   "mimetype": "text/x-python",
   "name": "python",
   "nbconvert_exporter": "python",
   "pygments_lexer": "ipython3",
   "version": "3.9.7"
  }
 },
 "nbformat": 4,
 "nbformat_minor": 5
}
